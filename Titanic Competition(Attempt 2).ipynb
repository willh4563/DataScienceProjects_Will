{
 "cells": [
  {
   "cell_type": "code",
   "execution_count": 29,
   "metadata": {},
   "outputs": [],
   "source": [
    "import pandas as pd"
   ]
  },
  {
   "cell_type": "code",
   "execution_count": 30,
   "metadata": {},
   "outputs": [],
   "source": [
    "# Change the working directory to the 'titanic' folder within the 'Kaggle Competitions' directory on the desktop\\n\",\n",
    "import os \n",
    "os.chdir('/Users/willhughes/Desktop/Kaggle  Competitions/titanic')\n"
   ]
  },
  {
   "cell_type": "code",
   "execution_count": 31,
   "metadata": {},
   "outputs": [],
   "source": [
    "# Load the training and test datasets from the Titanic Kaggle competition\n",
    "train_data = pd.read_csv(\"train.csv\")\n",
    "test_data = pd.read_csv(\"test.csv\")\n",
    "\n",
    "# Extract the 'PassengerId' column from the test dataset\n",
    "test_ids = test_data[\"PassengerId\"]"
   ]
  },
  {
   "cell_type": "code",
   "execution_count": 32,
   "metadata": {},
   "outputs": [
    {
     "name": "stdout",
     "output_type": "stream",
     "text": [
      "   PassengerId  Survived  Pclass  \\\n",
      "0            1         0       3   \n",
      "1            2         1       1   \n",
      "2            3         1       3   \n",
      "3            4         1       1   \n",
      "4            5         0       3   \n",
      "\n",
      "                                                Name     Sex   Age  SibSp  \\\n",
      "0                            Braund, Mr. Owen Harris    male  22.0      1   \n",
      "1  Cumings, Mrs. John Bradley (Florence Briggs Th...  female  38.0      1   \n",
      "2                             Heikkinen, Miss. Laina  female  26.0      0   \n",
      "3       Futrelle, Mrs. Jacques Heath (Lily May Peel)  female  35.0      1   \n",
      "4                           Allen, Mr. William Henry    male  35.0      0   \n",
      "\n",
      "   Parch            Ticket     Fare Cabin Embarked  \n",
      "0      0         A/5 21171   7.2500   NaN        S  \n",
      "1      0          PC 17599  71.2833   C85        C  \n",
      "2      0  STON/O2. 3101282   7.9250   NaN        S  \n",
      "3      0            113803  53.1000  C123        S  \n",
      "4      0            373450   8.0500   NaN        S  \n"
     ]
    }
   ],
   "source": [
    "print(train_data.head(5))"
   ]
  },
  {
   "cell_type": "code",
   "execution_count": 33,
   "metadata": {},
   "outputs": [],
   "source": [
    "def extract_title(df):\n",
    "# Extract titles from the 'Name' column\n",
    "    df['Title'] = df['Name'].apply(lambda name: name.split(',')[1].split('.')[0].strip())\n",
    "    return df\n",
    "\n",
    "# Apply the function to both train and test datasets\n",
    "train_data = extract_title(train_data)\n",
    "test_data = extract_title(test_data)"
   ]
  },
  {
   "cell_type": "code",
   "execution_count": 34,
   "metadata": {},
   "outputs": [
    {
     "name": "stdout",
     "output_type": "stream",
     "text": [
      "   PassengerId  Survived  Pclass  \\\n",
      "0            1         0       3   \n",
      "1            2         1       1   \n",
      "2            3         1       3   \n",
      "3            4         1       1   \n",
      "4            5         0       3   \n",
      "\n",
      "                                                Name     Sex   Age  SibSp  \\\n",
      "0                            Braund, Mr. Owen Harris    male  22.0      1   \n",
      "1  Cumings, Mrs. John Bradley (Florence Briggs Th...  female  38.0      1   \n",
      "2                             Heikkinen, Miss. Laina  female  26.0      0   \n",
      "3       Futrelle, Mrs. Jacques Heath (Lily May Peel)  female  35.0      1   \n",
      "4                           Allen, Mr. William Henry    male  35.0      0   \n",
      "\n",
      "   Parch            Ticket     Fare Cabin Embarked Title  \n",
      "0      0         A/5 21171   7.2500   NaN        S    Mr  \n",
      "1      0          PC 17599  71.2833   C85        C   Mrs  \n",
      "2      0  STON/O2. 3101282   7.9250   NaN        S  Miss  \n",
      "3      0            113803  53.1000  C123        S   Mrs  \n",
      "4      0            373450   8.0500   NaN        S    Mr  \n"
     ]
    }
   ],
   "source": [
    "# Display the first 5 rows of the training dataset to verify the 'Title' column has been added\n",
    "print(train_data.head(5))"
   ]
  },
  {
   "cell_type": "code",
   "execution_count": 35,
   "metadata": {},
   "outputs": [
    {
     "name": "stdout",
     "output_type": "stream",
     "text": [
      "   PassengerId  Survived  Pclass  \\\n",
      "0            1         0       3   \n",
      "1            2         1       1   \n",
      "2            3         1       3   \n",
      "3            4         1       1   \n",
      "4            5         0       3   \n",
      "\n",
      "                                                Name   Age  SibSp  Parch  \\\n",
      "0                            Braund, Mr. Owen Harris  22.0      1      0   \n",
      "1  Cumings, Mrs. John Bradley (Florence Briggs Th...  38.0      1      0   \n",
      "2                             Heikkinen, Miss. Laina  26.0      0      0   \n",
      "3       Futrelle, Mrs. Jacques Heath (Lily May Peel)  35.0      1      0   \n",
      "4                           Allen, Mr. William Henry  35.0      0      0   \n",
      "\n",
      "             Ticket     Fare Cabin  ...  Title_Master  Title_Miss  Title_Mlle  \\\n",
      "0         A/5 21171   7.2500   NaN  ...         False       False       False   \n",
      "1          PC 17599  71.2833   C85  ...         False       False       False   \n",
      "2  STON/O2. 3101282   7.9250   NaN  ...         False        True       False   \n",
      "3            113803  53.1000  C123  ...         False       False       False   \n",
      "4            373450   8.0500   NaN  ...         False       False       False   \n",
      "\n",
      "   Title_Mme  Title_Mr  Title_Mrs  Title_Ms  Title_Rev  Title_Sir  \\\n",
      "0      False      True      False     False      False      False   \n",
      "1      False     False       True     False      False      False   \n",
      "2      False     False      False     False      False      False   \n",
      "3      False     False       True     False      False      False   \n",
      "4      False      True      False     False      False      False   \n",
      "\n",
      "   Title_the Countess  \n",
      "0               False  \n",
      "1               False  \n",
      "2               False  \n",
      "3               False  \n",
      "4               False  \n",
      "\n",
      "[5 rows x 32 columns]\n"
     ]
    }
   ],
   "source": [
    "# One-hot encode the 'Sex', 'Embarked', and 'Title' columns for both training and test datasets\n",
    "train_data = pd.get_dummies(train_data, columns=['Sex', 'Embarked', 'Title'])\n",
    "test_data = pd.get_dummies(test_data, columns=['Sex', 'Embarked', 'Title'])\n",
    "\n",
    "# It's important to ensure that both datasets have the same columns after encoding, which might not be the case\n",
    "# if there are categorical levels present in one dataset that aren't in the other. You can use the following\n",
    "# approach to align them:\n",
    "\n",
    "# Get missing columns in the test set\n",
    "missing_cols = set(train_data.columns) - set(test_data.columns)\n",
    "# Add a missing column in test set with default value equal to 0\n",
    "for c in missing_cols:\n",
    "    test_data[c] = 0\n",
    "\n",
    "# Ensure the order of column in the test set is in the same order than in train set\n",
    "test_data = test_data[train_data.columns]\n",
    "\n",
    "# Now, you can safely drop 'Survived' from test_data as it's not present there and was added because of alignment\n",
    "test_data.drop(['Survived'], axis=1, inplace=True)\n",
    "\n",
    "# Let's take a look at the first few rows of the training dataset to verify the changes\n",
    "print(train_data.head())"
   ]
  },
  {
   "cell_type": "code",
   "execution_count": 36,
   "metadata": {},
   "outputs": [
    {
     "name": "stdout",
     "output_type": "stream",
     "text": [
      "PassengerId           0\n",
      "Survived              0\n",
      "Pclass                0\n",
      "Name                  0\n",
      "Age                   0\n",
      "SibSp                 0\n",
      "Parch                 0\n",
      "Ticket                0\n",
      "Fare                  0\n",
      "Sex_female            0\n",
      "Sex_male              0\n",
      "Embarked_C            0\n",
      "Embarked_Q            0\n",
      "Embarked_S            0\n",
      "Title_Capt            0\n",
      "Title_Col             0\n",
      "Title_Don             0\n",
      "Title_Dr              0\n",
      "Title_Jonkheer        0\n",
      "Title_Lady            0\n",
      "Title_Major           0\n",
      "Title_Master          0\n",
      "Title_Miss            0\n",
      "Title_Mlle            0\n",
      "Title_Mme             0\n",
      "Title_Mr              0\n",
      "Title_Mrs             0\n",
      "Title_Ms              0\n",
      "Title_Rev             0\n",
      "Title_Sir             0\n",
      "Title_the Countess    0\n",
      "Cabin_known           0\n",
      "dtype: int64\n",
      "PassengerId           0\n",
      "Pclass                0\n",
      "Name                  0\n",
      "Age                   0\n",
      "SibSp                 0\n",
      "Parch                 0\n",
      "Ticket                0\n",
      "Fare                  1\n",
      "Sex_female            0\n",
      "Sex_male              0\n",
      "Embarked_C            0\n",
      "Embarked_Q            0\n",
      "Embarked_S            0\n",
      "Title_Capt            0\n",
      "Title_Col             0\n",
      "Title_Don             0\n",
      "Title_Dr              0\n",
      "Title_Jonkheer        0\n",
      "Title_Lady            0\n",
      "Title_Major           0\n",
      "Title_Master          0\n",
      "Title_Miss            0\n",
      "Title_Mlle            0\n",
      "Title_Mme             0\n",
      "Title_Mr              0\n",
      "Title_Mrs             0\n",
      "Title_Ms              0\n",
      "Title_Rev             0\n",
      "Title_Sir             0\n",
      "Title_the Countess    0\n",
      "Cabin_known           0\n",
      "dtype: int64\n"
     ]
    }
   ],
   "source": [
    "import pandas as pd\n",
    "from sklearn.impute import SimpleImputer\n",
    "\n",
    "# Impute missing values in 'Age' with the median\n",
    "age_imputer = SimpleImputer(strategy='median')\n",
    "train_data['Age'] = age_imputer.fit_transform(train_data[['Age']])\n",
    "test_data['Age'] = age_imputer.transform(test_data[['Age']])\n",
    "\n",
    "# For 'Cabin', since a lot of values are missing, you might want to convert it to a binary feature \n",
    "# indicating whether the cabin information was missing or not\n",
    "train_data['Cabin_known'] = train_data['Cabin'].apply(lambda x: 0 if pd.isna(x) else 1)\n",
    "test_data['Cabin_known'] = test_data['Cabin'].apply(lambda x: 0 if pd.isna(x) else 1)\n",
    "\n",
    "# Drop the original 'Cabin' column as it's too sparse\n",
    "train_data.drop('Cabin', axis=1, inplace=True)\n",
    "test_data.drop('Cabin', axis=1, inplace=True)\n",
    "\n",
    "# Check if there are any more missing values\n",
    "print(train_data.isnull().sum())\n",
    "print(test_data.isnull().sum())"
   ]
  },
  {
   "cell_type": "code",
   "execution_count": 37,
   "metadata": {},
   "outputs": [
    {
     "name": "stdout",
     "output_type": "stream",
     "text": [
      "Survived              1.000000\n",
      "Sex_female            0.543351\n",
      "Title_Mrs             0.339040\n",
      "Title_Miss            0.327093\n",
      "Cabin_known           0.316912\n",
      "Fare                  0.257307\n",
      "Embarked_C            0.168240\n",
      "Title_Master          0.085221\n",
      "Parch                 0.081629\n",
      "Title_Mlle            0.060095\n",
      "Title_Lady            0.042470\n",
      "Title_Mme             0.042470\n",
      "Title_the Countess    0.042470\n",
      "Title_Sir             0.042470\n",
      "Title_Ms              0.042470\n",
      "Title_Major           0.011329\n",
      "Title_Col             0.011329\n",
      "Title_Dr              0.008185\n",
      "Embarked_Q            0.003650\n",
      "Title_Don            -0.026456\n",
      "Title_Jonkheer       -0.026456\n",
      "Title_Capt           -0.026456\n",
      "SibSp                -0.035322\n",
      "Age                  -0.064910\n",
      "Title_Rev            -0.064988\n",
      "Embarked_S           -0.155660\n",
      "Pclass               -0.338481\n",
      "Sex_male             -0.543351\n",
      "Title_Mr             -0.549199\n",
      "Name: Survived, dtype: float64\n"
     ]
    }
   ],
   "source": [
    "# Drop columns that are unique identifiers or don't contribute to the model\n",
    "train_data.drop(['PassengerId', 'Name', 'Ticket'], axis=1, inplace=True)\n",
    "test_data.drop(['Name', 'Ticket'], axis=1, inplace=True)  # Keep PassengerId in the test set for submission purposes\n",
    "\n",
    "# Check the correlation of the features with the target\n",
    "correlation_matrix = train_data.corr()\n",
    "print(correlation_matrix[\"Survived\"].sort_values(ascending=False))\n",
    "\n",
    "# Based on the correlation and importance you can decide to drop more features"
   ]
  },
  {
   "cell_type": "code",
   "execution_count": 38,
   "metadata": {},
   "outputs": [
    {
     "name": "stdout",
     "output_type": "stream",
     "text": [
      "Validation Accuracy: 0.8268156424581006\n",
      "              precision    recall  f1-score   support\n",
      "\n",
      "           0       0.86      0.85      0.85       105\n",
      "           1       0.79      0.80      0.79        74\n",
      "\n",
      "    accuracy                           0.83       179\n",
      "   macro avg       0.82      0.82      0.82       179\n",
      "weighted avg       0.83      0.83      0.83       179\n",
      "\n"
     ]
    }
   ],
   "source": [
    "from sklearn.model_selection import train_test_split\n",
    "from sklearn.linear_model import LogisticRegression\n",
    "from sklearn.metrics import accuracy_score, classification_report\n",
    "\n",
    "# Separate features and target variable\n",
    "X = train_data.drop('Survived', axis=1)\n",
    "y = train_data['Survived']\n",
    "\n",
    "# Split the data into training and validation sets\n",
    "X_train, X_val, y_train, y_val = train_test_split(X, y, test_size=0.2, random_state=42)\n",
    "\n",
    "# Initialize the Logistic Regression model\n",
    "logreg = LogisticRegression(max_iter=1000, random_state=42)\n",
    "\n",
    "# Fit the model to the training data\n",
    "logreg.fit(X_train, y_train)\n",
    "\n",
    "# Predict on the validation set\n",
    "y_pred = logreg.predict(X_val)\n",
    "\n",
    "# Calculate accuracy\n",
    "accuracy = accuracy_score(y_val, y_pred)\n",
    "print(f'Validation Accuracy: {accuracy}')\n",
    "\n",
    "# Print the classification report for a detailed performance analysis\n",
    "print(classification_report(y_val, y_pred))"
   ]
  },
  {
   "cell_type": "code",
   "execution_count": 40,
   "metadata": {},
   "outputs": [
    {
     "name": "stdout",
     "output_type": "stream",
     "text": [
      "PassengerId           0\n",
      "Pclass                0\n",
      "Age                   0\n",
      "SibSp                 0\n",
      "Parch                 0\n",
      "Fare                  1\n",
      "Sex_female            0\n",
      "Sex_male              0\n",
      "Embarked_C            0\n",
      "Embarked_Q            0\n",
      "Embarked_S            0\n",
      "Title_Capt            0\n",
      "Title_Col             0\n",
      "Title_Don             0\n",
      "Title_Dr              0\n",
      "Title_Jonkheer        0\n",
      "Title_Lady            0\n",
      "Title_Major           0\n",
      "Title_Master          0\n",
      "Title_Miss            0\n",
      "Title_Mlle            0\n",
      "Title_Mme             0\n",
      "Title_Mr              0\n",
      "Title_Mrs             0\n",
      "Title_Ms              0\n",
      "Title_Rev             0\n",
      "Title_Sir             0\n",
      "Title_the Countess    0\n",
      "Cabin_known           0\n",
      "dtype: int64\n"
     ]
    }
   ],
   "source": [
    "print(test_data.isnull().sum())"
   ]
  },
  {
   "cell_type": "code",
   "execution_count": 41,
   "metadata": {},
   "outputs": [],
   "source": [
    "from sklearn.impute import SimpleImputer\n",
    "\n",
    "# Create an imputer object with a median filling strategy\n",
    "fare_imputer = SimpleImputer(strategy='median')\n",
    "\n",
    "# Impute the missing values in 'Fare'\n",
    "test_data['Fare'] = fare_imputer.fit_transform(test_data[['Fare']])\n",
    "\n",
    "# Now, try making predictions again\n",
    "test_predictions = logreg.predict(test_data.drop('PassengerId', axis=1))"
   ]
  },
  {
   "cell_type": "code",
   "execution_count": 42,
   "metadata": {},
   "outputs": [],
   "source": [
    "# Make predictions on the test data\n",
    "test_predictions = logreg.predict(test_data.drop('PassengerId', axis=1))"
   ]
  },
  {
   "cell_type": "code",
   "execution_count": 43,
   "metadata": {},
   "outputs": [],
   "source": [
    "# Create a DataFrame for submission\n",
    "submission = pd.DataFrame({\n",
    "    \"PassengerId\": test_data['PassengerId'],\n",
    "    \"Survived\": test_predictions\n",
    "})"
   ]
  },
  {
   "cell_type": "code",
   "execution_count": 44,
   "metadata": {},
   "outputs": [],
   "source": [
    "# Save the submission file\n",
    "submission.to_csv('titanic_submission.csv', index=False)"
   ]
  }
 ],
 "metadata": {
  "kernelspec": {
   "display_name": "Python 3",
   "language": "python",
   "name": "python3"
  },
  "language_info": {
   "codemirror_mode": {
    "name": "ipython",
    "version": 3
   },
   "file_extension": ".py",
   "mimetype": "text/x-python",
   "name": "python",
   "nbconvert_exporter": "python",
   "pygments_lexer": "ipython3",
   "version": "3.11.7"
  },
  "orig_nbformat": 4
 },
 "nbformat": 4,
 "nbformat_minor": 2
}
